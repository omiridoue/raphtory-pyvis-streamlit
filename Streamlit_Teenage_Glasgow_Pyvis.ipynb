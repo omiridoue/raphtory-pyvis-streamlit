{
  "cells": [
    {
      "cell_type": "markdown",
      "metadata": {
        "id": "aIl7KwHg6WmH"
      },
      "source": [
        "# Install Dependencies"
      ]
    },
    {
      "cell_type": "code",
      "execution_count": 1,
      "metadata": {
        "id": "VO1-Nd-cqoVG",
        "colab": {
          "base_uri": "https://localhost:8080/"
        },
        "outputId": "41b29086-e9cc-4360-a34c-87b8d89f429a"
      },
      "outputs": [
        {
          "output_type": "stream",
          "name": "stdout",
          "text": [
            "\u001b[?25l     \u001b[90m━━━━━━━━━━━━━━━━━━━━━━━━━━━━━━━━━━━━━━━━\u001b[0m \u001b[32m0.0/440.9 kB\u001b[0m \u001b[31m?\u001b[0m eta \u001b[36m-:--:--\u001b[0m\r\u001b[2K     \u001b[91m━━━━━━━━━━\u001b[0m\u001b[90m╺\u001b[0m\u001b[90m━━━━━━━━━━━━━━━━━━━━━━━━━━━━━\u001b[0m \u001b[32m112.6/440.9 kB\u001b[0m \u001b[31m3.2 MB/s\u001b[0m eta \u001b[36m0:00:01\u001b[0m\r\u001b[2K     \u001b[91m━━━━━━━━━━━━━━━━━━━━━━━━━━━━━━━━━━━━━━━\u001b[0m\u001b[91m╸\u001b[0m \u001b[32m440.3/440.9 kB\u001b[0m \u001b[31m6.4 MB/s\u001b[0m eta \u001b[36m0:00:01\u001b[0m\r\u001b[2K     \u001b[90m━━━━━━━━━━━━━━━━━━━━━━━━━━━━━━━━━━━━━━━━\u001b[0m \u001b[32m440.9/440.9 kB\u001b[0m \u001b[31m5.2 MB/s\u001b[0m eta \u001b[36m0:00:00\u001b[0m\n",
            "\u001b[?25h"
          ]
        }
      ],
      "source": [
        "!pip install -q pyreadr"
      ]
    },
    {
      "cell_type": "code",
      "execution_count": 2,
      "metadata": {
        "id": "Gkal2bU4JBY2",
        "colab": {
          "base_uri": "https://localhost:8080/"
        },
        "outputId": "c84249d1-f8ea-4d48-c274-33151dd58618"
      },
      "outputs": [
        {
          "output_type": "stream",
          "name": "stdout",
          "text": [
            "\u001b[2K     \u001b[90m━━━━━━━━━━━━━━━━━━━━━━━━━━━━━━━━━━━━━━━━\u001b[0m \u001b[32m756.0/756.0 kB\u001b[0m \u001b[31m5.1 MB/s\u001b[0m eta \u001b[36m0:00:00\u001b[0m\n",
            "\u001b[2K     \u001b[90m━━━━━━━━━━━━━━━━━━━━━━━━━━━━━━━━━━━━━━━━\u001b[0m \u001b[32m1.6/1.6 MB\u001b[0m \u001b[31m10.1 MB/s\u001b[0m eta \u001b[36m0:00:00\u001b[0m\n",
            "\u001b[?25h"
          ]
        }
      ],
      "source": [
        "!pip install -q pyvis"
      ]
    },
    {
      "cell_type": "code",
      "execution_count": 3,
      "metadata": {
        "id": "08R2sEFSKVu4",
        "colab": {
          "base_uri": "https://localhost:8080/"
        },
        "outputId": "9ff29f6c-5ad0-450a-ba99-487425257c84"
      },
      "outputs": [
        {
          "output_type": "stream",
          "name": "stdout",
          "text": [
            "\u001b[2K     \u001b[90m━━━━━━━━━━━━━━━━━━━━━━━━━━━━━━━━━━━━━━━━\u001b[0m \u001b[32m14.7/14.7 MB\u001b[0m \u001b[31m17.1 MB/s\u001b[0m eta \u001b[36m0:00:00\u001b[0m\n",
            "\u001b[2K     \u001b[90m━━━━━━━━━━━━━━━━━━━━━━━━━━━━━━━━━━━━━━━━\u001b[0m \u001b[32m12.3/12.3 MB\u001b[0m \u001b[31m47.6 MB/s\u001b[0m eta \u001b[36m0:00:00\u001b[0m\n",
            "\u001b[2K     \u001b[90m━━━━━━━━━━━━━━━━━━━━━━━━━━━━━━━━━━━━━━━━\u001b[0m \u001b[32m38.0/38.0 MB\u001b[0m \u001b[31m12.7 MB/s\u001b[0m eta \u001b[36m0:00:00\u001b[0m\n",
            "\u001b[2K     \u001b[90m━━━━━━━━━━━━━━━━━━━━━━━━━━━━━━━━━━━━━━━━\u001b[0m \u001b[32m65.1/65.1 kB\u001b[0m \u001b[31m6.0 MB/s\u001b[0m eta \u001b[36m0:00:00\u001b[0m\n",
            "\u001b[2K     \u001b[90m━━━━━━━━━━━━━━━━━━━━━━━━━━━━━━━━━━━━━━━━\u001b[0m \u001b[32m202.9/202.9 kB\u001b[0m \u001b[31m10.9 MB/s\u001b[0m eta \u001b[36m0:00:00\u001b[0m\n",
            "\u001b[2K     \u001b[90m━━━━━━━━━━━━━━━━━━━━━━━━━━━━━━━━━━━━━━━━\u001b[0m \u001b[32m1.0/1.0 MB\u001b[0m \u001b[31m45.3 MB/s\u001b[0m eta \u001b[36m0:00:00\u001b[0m\n",
            "\u001b[2K     \u001b[90m━━━━━━━━━━━━━━━━━━━━━━━━━━━━━━━━━━━━━━━━\u001b[0m \u001b[32m54.5/54.5 kB\u001b[0m \u001b[31m4.8 MB/s\u001b[0m eta \u001b[36m0:00:00\u001b[0m\n",
            "\u001b[2K     \u001b[90m━━━━━━━━━━━━━━━━━━━━━━━━━━━━━━━━━━━━━━━━\u001b[0m \u001b[32m143.8/143.8 kB\u001b[0m \u001b[31m13.3 MB/s\u001b[0m eta \u001b[36m0:00:00\u001b[0m\n",
            "\u001b[2K     \u001b[90m━━━━━━━━━━━━━━━━━━━━━━━━━━━━━━━━━━━━━━━━\u001b[0m \u001b[32m11.9/11.9 MB\u001b[0m \u001b[31m18.0 MB/s\u001b[0m eta \u001b[36m0:00:00\u001b[0m\n",
            "\u001b[2K     \u001b[90m━━━━━━━━━━━━━━━━━━━━━━━━━━━━━━━━━━━━━━━━\u001b[0m \u001b[32m106.8/106.8 kB\u001b[0m \u001b[31m7.0 MB/s\u001b[0m eta \u001b[36m0:00:00\u001b[0m\n",
            "\u001b[2K     \u001b[90m━━━━━━━━━━━━━━━━━━━━━━━━━━━━━━━━━━━━━━━━\u001b[0m \u001b[32m346.6/346.6 kB\u001b[0m \u001b[31m18.6 MB/s\u001b[0m eta \u001b[36m0:00:00\u001b[0m\n",
            "\u001b[?25h\u001b[31mERROR: pip's dependency resolver does not currently take into account all the packages that are installed. This behaviour is the source of the following dependency conflicts.\n",
            "lida 0.0.10 requires fastapi, which is not installed.\n",
            "lida 0.0.10 requires kaleido, which is not installed.\n",
            "lida 0.0.10 requires python-multipart, which is not installed.\n",
            "lida 0.0.10 requires uvicorn, which is not installed.\n",
            "bigframes 0.17.0 requires pandas<2.1.4,>=1.5.0, but you have pandas 2.1.4 which is incompatible.\n",
            "google-colab 1.0.0 requires pandas==1.5.3, but you have pandas 2.1.4 which is incompatible.\n",
            "ibis-framework 6.2.0 requires pyarrow<13,>=2, but you have pyarrow 14.0.2 which is incompatible.\u001b[0m\u001b[31m\n",
            "\u001b[0m"
          ]
        }
      ],
      "source": [
        "!pip install -q raphtory"
      ]
    },
    {
      "cell_type": "code",
      "execution_count": 4,
      "metadata": {
        "id": "eUj0ftp0rOBD"
      },
      "outputs": [],
      "source": [
        "!pip install -q ipywidgets"
      ]
    },
    {
      "cell_type": "code",
      "execution_count": 5,
      "metadata": {
        "colab": {
          "base_uri": "https://localhost:8080/"
        },
        "id": "19ZKvRVswcJC",
        "outputId": "11486fac-260e-4991-ada6-50a2211f4434"
      },
      "outputs": [
        {
          "output_type": "stream",
          "name": "stdout",
          "text": [
            "\u001b[2K     \u001b[90m━━━━━━━━━━━━━━━━━━━━━━━━━━━━━━━━━━━━━━━━\u001b[0m \u001b[32m8.4/8.4 MB\u001b[0m \u001b[31m16.7 MB/s\u001b[0m eta \u001b[36m0:00:00\u001b[0m\n",
            "\u001b[2K     \u001b[90m━━━━━━━━━━━━━━━━━━━━━━━━━━━━━━━━━━━━━━━━\u001b[0m \u001b[32m190.6/190.6 kB\u001b[0m \u001b[31m17.8 MB/s\u001b[0m eta \u001b[36m0:00:00\u001b[0m\n",
            "\u001b[2K     \u001b[90m━━━━━━━━━━━━━━━━━━━━━━━━━━━━━━━━━━━━━━━━\u001b[0m \u001b[32m4.8/4.8 MB\u001b[0m \u001b[31m38.6 MB/s\u001b[0m eta \u001b[36m0:00:00\u001b[0m\n",
            "\u001b[2K     \u001b[90m━━━━━━━━━━━━━━━━━━━━━━━━━━━━━━━━━━━━━━━━\u001b[0m \u001b[32m82.1/82.1 kB\u001b[0m \u001b[31m7.4 MB/s\u001b[0m eta \u001b[36m0:00:00\u001b[0m\n",
            "\u001b[2K     \u001b[90m━━━━━━━━━━━━━━━━━━━━━━━━━━━━━━━━━━━━━━━━\u001b[0m \u001b[32m62.7/62.7 kB\u001b[0m \u001b[31m5.8 MB/s\u001b[0m eta \u001b[36m0:00:00\u001b[0m\n",
            "\u001b[K\u001b[?25h\u001b[37;40mnpm\u001b[0m \u001b[0m\u001b[30;43mWARN\u001b[0m \u001b[0m\u001b[35msaveError\u001b[0m ENOENT: no such file or directory, open '/content/package.json'\n",
            "\u001b[0m\u001b[37;40mnpm\u001b[0m \u001b[0m\u001b[34;40mnotice\u001b[0m\u001b[35m\u001b[0m created a lockfile as package-lock.json. You should commit this file.\n",
            "\u001b[0m\u001b[37;40mnpm\u001b[0m \u001b[0m\u001b[30;43mWARN\u001b[0m \u001b[0m\u001b[35menoent\u001b[0m ENOENT: no such file or directory, open '/content/package.json'\n",
            "\u001b[0m\u001b[37;40mnpm\u001b[0m \u001b[0m\u001b[30;43mWARN\u001b[0m\u001b[35m\u001b[0m content No description\n",
            "\u001b[0m\u001b[37;40mnpm\u001b[0m \u001b[0m\u001b[30;43mWARN\u001b[0m\u001b[35m\u001b[0m content No repository field.\n",
            "\u001b[0m\u001b[37;40mnpm\u001b[0m \u001b[0m\u001b[30;43mWARN\u001b[0m\u001b[35m\u001b[0m content No README data\n",
            "\u001b[0m\u001b[37;40mnpm\u001b[0m \u001b[0m\u001b[30;43mWARN\u001b[0m\u001b[35m\u001b[0m content No license field.\n",
            "\u001b[0m\n",
            "+ localtunnel@2.0.2\n",
            "added 22 packages from 22 contributors and audited 22 packages in 2.5s\n",
            "\n",
            "3 packages are looking for funding\n",
            "  run `npm fund` for details\n",
            "\n",
            "found 1 \u001b[93mmoderate\u001b[0m severity vulnerability\n",
            "  run `npm audit fix` to fix them, or `npm audit` for details\n",
            "\u001b[K\u001b[?25h"
          ]
        }
      ],
      "source": [
        "!pip install -q streamlit\n",
        "!npm install localtunnel"
      ]
    },
    {
      "cell_type": "markdown",
      "metadata": {
        "id": "cLhKO0KawP54"
      },
      "source": [
        "# Streamlit App"
      ]
    },
    {
      "cell_type": "code",
      "execution_count": 6,
      "metadata": {
        "id": "pzpw0b2Y2a6V"
      },
      "outputs": [],
      "source": [
        "#from google.colab import drive\n",
        "#drive.mount('/content/drive')"
      ]
    },
    {
      "cell_type": "code",
      "execution_count": 7,
      "metadata": {
        "colab": {
          "base_uri": "https://localhost:8080/"
        },
        "id": "5zd7IH-bzgY2",
        "outputId": "6a7a1ea4-0e53-4d52-d4e4-bdd156dc4586"
      },
      "outputs": [
        {
          "output_type": "stream",
          "name": "stdout",
          "text": [
            "Password/Enpoint IP for localtunnel is: 34.73.175.212\n"
          ]
        }
      ],
      "source": [
        "import urllib\n",
        "print(\"Password/Enpoint IP for localtunnel is:\",urllib.request.urlopen('https://ipv4.icanhazip.com').read().decode('utf8').strip(\"\\n\"))\n"
      ]
    },
    {
      "cell_type": "code",
      "execution_count": 18,
      "metadata": {
        "colab": {
          "base_uri": "https://localhost:8080/"
        },
        "id": "EqR6G58owju9",
        "outputId": "a33fa291-0032-47d1-ee91-1fa9b2200604"
      },
      "outputs": [
        {
          "output_type": "stream",
          "name": "stdout",
          "text": [
            "Overwriting app.py\n"
          ]
        }
      ],
      "source": [
        "%%writefile app.py\n",
        "\n",
        "import pandas as pd\n",
        "import numpy as np\n",
        "\n",
        "import matplotlib.pyplot as plt\n",
        "import pyreadr\n",
        "\n",
        "from pprint import pprint\n",
        "\n",
        "import os\n",
        "import glob\n",
        "\n",
        "from raphtory import Graph\n",
        "from raphtory import algorithms as algo\n",
        "#from raphtory import graphqlserver\n",
        "\n",
        "from raphtory import export\n",
        "from IPython.display import display, HTML\n",
        "\n",
        "import ipywidgets as ipy\n",
        "from ipywidgets import interact\n",
        "\n",
        "import streamlit as st\n",
        "import streamlit.components.v1 as components\n",
        "import seaborn as sns\n",
        "\n",
        "import pandas as pd\n",
        "\n",
        "import matplotlib.cm as cm\n",
        "import matplotlib.colors as mcolors\n",
        "\n",
        "import inspect\n",
        "from pprint import pprint\n",
        "\n",
        "path = '/content/Glasgow_data'\n",
        "\n",
        "for filename in glob.glob(os.path.join(path, '*.RData')): #only process .Rdata files in folder.\n",
        "    with open(filename, encoding='utf-8', mode='r') as currentFile:\n",
        "      file_index = (os.path.split(filename)[1]).replace('.RData', '')\n",
        "      file_index = file_index.replace('-','_').lower()\n",
        "      print(file_index) # use adjusted file names to name data objects\n",
        "\n",
        "      globals()[file_index] = pyreadr.read_r(filename) # also works for Rds\n",
        "\n",
        "adj_t1 = pd.DataFrame(glasgow_friendship['friendship.1'])\n",
        "adj_t2 = pd.DataFrame(glasgow_friendship['friendship.2'])\n",
        "adj_t3 = pd.DataFrame(glasgow_friendship['friendship.3'])\n",
        "\n",
        "# I have made all values binary and recoded struct. zeroes to zeroes\n",
        "\n",
        "adj_t1 = adj_t1.fillna(0)\n",
        "adj_t1 = adj_t1.replace(10.0, 0.0)\n",
        "adj_t1 = adj_t1.replace(2.0, 1.0)\n",
        "\n",
        "# I have made all values binary and recoded struct. zeroes to zeroes\n",
        "\n",
        "adj_t2 = adj_t2.fillna(0)\n",
        "adj_t2 = adj_t2.replace(10.0, 0.0)\n",
        "adj_t2 = adj_t2.replace(2.0, 1.0)\n",
        "\n",
        "# I have made all values binary and recoded struct. zeroes to zeroes\n",
        "\n",
        "adj_t3 = adj_t3.fillna(0)\n",
        "adj_t3 = adj_t3.replace(10.0, 0.0)\n",
        "adj_t3 = adj_t3.replace(2.0, 1.0)\n",
        "\n",
        "adj_t1.rename_axis('Source')\\\n",
        "  .reset_index()\\\n",
        "  .melt('Source', value_name='Weight', var_name='Target')\\\n",
        "  .query('Source != Target and (Weight != 0)')\\\n",
        "  .reset_index(drop=True)\n",
        "\n",
        "smoking = pd.DataFrame(glasgow_substances['tobacco']).fillna(0)\n",
        "\n",
        "smoking.loc[:, ['t1','t2','t3']] = smoking[['t1','t2','t3']].astype(int)\n",
        "\n",
        "# Melt the DataFrame to reshape it\n",
        "smoking = smoking.rename_axis('id')\\\n",
        "                  .reset_index()\n",
        "\n",
        "node_temp = pd.melt(smoking, var_name='time', value_name='tobacco', id_vars=['id'])\n",
        "node_temp['time'] = node_temp['time'].str.extract('(\\d+)', expand=False)\n",
        "\n",
        "colormap = cm.winter_r\n",
        "# Normalize 'smoking_t2' values to the range [0, 1]\n",
        "norm = mcolors.Normalize(vmin=min(node_temp.tobacco), vmax=max(node_temp.tobacco))\n",
        "color_list = [\"#5F9EA0\", \"#318CE7\", \"#0066b2\", \"#00308F\"] # Manually selected, same as visualse in R code\n",
        "\n",
        "# Map 'smoking_t2' values to colors using the colormap\n",
        "#node_colors = [cm.colors.to_hex(colormap(norm(value))) if value is not None else '#808080' for value in node_temp.tobacco]\n",
        "node_colors = [color_list[value] if value is not None else '#808080' for value in node_temp.tobacco]\n",
        "\n",
        "node_temp['color'] = node_colors\n",
        "node_temp = pd.DataFrame(node_temp)\n",
        "\n",
        "# Assuming adj_t1, adj_t2, adj_t3 are your dataframes\n",
        "# Adjust the range accordingly based on your actual data\n",
        "\n",
        "dfs = []  # To store individual dataframes\n",
        "\n",
        "for i in range(1, 4):  # Assuming adj_t1 through adj_t3\n",
        "    placeholder = globals()[f'adj_t{i}']  # Fetch the dataframe dynamically\n",
        "    result_df = placeholder.rename_axis('Source')\\\n",
        "                  .reset_index()\\\n",
        "                  .melt('Source', value_name='Weight', var_name='Target')\\\n",
        "                  .query('(Source != Target) and (Weight != 0)')\\\n",
        "                  .reset_index(drop=True)\n",
        "\n",
        "    result_df['Time'] = f'{i}'  # Add a new column indicating the time\n",
        "\n",
        "    dfs.append(result_df)\n",
        "\n",
        "# Concatenate the dataframes in the list\n",
        "df = pd.concat(dfs, ignore_index=True)\n",
        "\n",
        "# Display the final dataframe\n",
        "df.rename(columns={'Source': 'src_id', 'Target': 'dst_id', 'Time': 'time'}, inplace=True)\n",
        "\n",
        "df['time'] = df['time'].astype('int64')\n",
        "df['Weight'] = df['Weight'].astype(int)\n",
        "\n",
        "node_temp['time'] = node_temp['time'].astype('int64')\n",
        "node_temp['tobacco'] = node_temp['tobacco'].astype(int)\n",
        "\n",
        "node_cols = [\"tobacco\", \"color\"]\n",
        "\"\"\"\n",
        "\n",
        "\"\"\"\n",
        "#node_temp\n",
        "\n",
        "graph = Graph.load_from_pandas(node_df= node_temp,\n",
        "                               node_time = \"time\",\n",
        "                               node_id= \"id\",\n",
        "                               node_props= node_cols,\n",
        "                               edge_df=df,\n",
        "                               edge_src=\"src_id\",\n",
        "                               edge_dst=\"dst_id\",\n",
        "                               edge_time=\"time\"\n",
        "                               )\n",
        "\n",
        "pyvis_graph = export.to_pyvis(graph=graph,\n",
        "                              notebook=True,\n",
        "                              #heading=\"Glasgow Teenage Friendship Network\",\n",
        "                              height='900px',\n",
        "                              cdn_resources='in_line',\n",
        "                              width='100%',\n",
        "                              bgcolor='#e5eaf9',\n",
        "                              font_color='white',\n",
        "                              directed=True,\n",
        "                              neighborhood_highlight=True,\n",
        "                              select_menu=False,\n",
        "                              filter_menu=True # change to true if you want to display pyvis filtering options\n",
        "                              )\n",
        "\n",
        "pyvis_graph.barnes_hut()\n",
        "\n",
        "mask_edge = export.to_edge_df(graph)\n",
        "\n",
        "mask_edge['periods'] = mask_edge['update_history'].apply(len)\n",
        "\n",
        "#print(mask_edge[['src', 'dst', 'update_history', 'periods']])\n",
        "\n",
        "counting_src_orig = [str(i['from']) for i in pyvis_graph.edges]\n",
        "\n",
        "counting_to_orig = [str(i['to']) for i in pyvis_graph.edges]\n",
        "\n",
        "mask_edge['from'] = counting_src_orig\n",
        "mask_edge['to'] = counting_to_orig\n",
        "\n",
        "expanded_df = pd.DataFrame()\n",
        "\n",
        "for _, row in mask_edge.iterrows():\n",
        "    # Check if 'periods' is greater than 1\n",
        "    if row['periods'] > 1:\n",
        "        # Duplicate the row for each period, set 'periods' to 1, 2, 3, and append to the new DataFrame\n",
        "        expanded_rows = pd.DataFrame([row.copy() for _ in range(row['periods'])])\n",
        "        expanded_rows['periods'] = range(1, row['periods'] + 1)\n",
        "        expanded_df = pd.concat([expanded_df, expanded_rows], ignore_index=True)\n",
        "    else:\n",
        "        # If 'periods' is 1, simply append the row to the new DataFrame\n",
        "        expanded_df = pd.concat([expanded_df, pd.DataFrame([row])], ignore_index=True)\n",
        "\n",
        "period_len_vec = expanded_df.groupby(['src', 'dst']).size().reset_index(name='count')\n",
        "\n",
        "expanded_df = pd.merge(expanded_df, period_len_vec, on=['src', 'dst'], how='left')\n",
        "expanded_df['periods']=expanded_df.apply(lambda x: x['update_history'][0] if x['count']==1 else x['periods'], axis=1)\n",
        "\n",
        "expanded_df['periods']=expanded_df.apply(lambda x: x['update_history'][1] if (x['count']==2 and x['periods']==2) else x['periods'], axis=1)\n",
        "\n",
        "expanded_df['periods']=expanded_df.apply(lambda x: x['update_history'][0] if (x['count']==2 and x['periods']==1) else x['periods'], axis=1)\n",
        "expanded_df['first_inst']=expanded_df.apply(lambda x: x['update_history'][0], axis=1)\n",
        "\n",
        "count_per_combination = expanded_df.groupby(['src', 'periods']).size().reset_index(name='count')\n",
        "\n",
        "# Iterate through each row in the original DataFrame\n",
        "replicated_entry = []\n",
        "for index, d in enumerate(pyvis_graph.edges):\n",
        "    # Check if 'periods' is greater than 1\n",
        "    #print(index)\n",
        "    if mask_edge.loc[index, 'periods'] > 1:\n",
        "        # Replicate the ith edge for each unit period above 1\n",
        "        for _ in range(mask_edge.loc[index, 'periods'] - 1):\n",
        "            d_temp = d.copy()\n",
        "            d_temp.update((k, f\"{mask_edge.loc[index,'periods']}\") for k, v in d.items() if k == 'title')\n",
        "            replicated_entry.append(d_temp)\n",
        "            #pyvis_graph.add_edge(replicated_entry['from'], replicated_entry['to'])\n",
        "\n",
        "mask_edge.rename(columns={'src': 'src_id', 'dst': 'dst_id', 'periods': 'time'}, inplace=True)\n",
        "count_per_combination.rename(columns={'src': 'src_id', 'periods': 'time'}, inplace=True)\n",
        "\n",
        "expanded_df.rename(columns={'src': 'src_id', 'dst': 'dst_id', 'periods': 'time'}, inplace=True)\n",
        "\n",
        "for index, d in enumerate(pyvis_graph.edges):\n",
        "    d.update((k, f\"{mask_edge.loc[index,'time']}\") for k, v in d.items() if k == 'title')\n",
        "\n",
        "df_1 = node_temp[['id', 'time', 'color']]\n",
        "df_1 = df_1.rename(columns={\"id\": \"src_id\"})\n",
        "colored_edges = pd.merge(expanded_df, df_1, on=['src_id', 'time'], how='left')\n",
        "\n",
        "family_smoking = pd.DataFrame(glasgow_various['familysmoking'])\n",
        "family_smoking['parent.smoking'] = family_smoking['parent.smoking'].fillna(99)\n",
        "\n",
        "family_smoking = family_smoking.rename(columns={\"parent.smoking\": \"parent\"})\n",
        "family_smoking['parent'] = family_smoking['parent'].replace(1, 0)\n",
        "family_smoking['parent'] = family_smoking['parent'].replace(2,1)\n",
        "\n",
        "family_smoking['parent'] = family_smoking['parent'].astype('int64')\n",
        "\n",
        "color_parent = [\"#757AD8\",\"#483D8B\"] # Manually selected, same as visualse in R code\n",
        "\n",
        "node_parent = [color_parent[value] if value is not None else '#808080' for value in family_smoking.parent]\n",
        "node_list_parent= node_parent * 3\n",
        "\n",
        "df_1['parent_smoking'] = node_list_parent\n",
        "\n",
        "df_1 = pd.merge(df_1, count_per_combination, on=['src_id', 'time'], how='left')\n",
        "\n",
        "df_1 = df_1.fillna(0)\n",
        "df_1['count'] = df_1['count'].astype('Int64')\n",
        "df_1['count'] = df_1['count'].apply(lambda x: np.ceil(20+25*np.log(x+1))).astype('Int64')\n",
        "\n",
        "df_1 = df_1.replace(0, 10)\n",
        "\n",
        "subset = colored_edges[colored_edges['count']>1]\n",
        "\n",
        "subset =  subset.drop(subset[(subset['count']==2) & (subset['time']==1)].index)\n",
        "subset =  subset.drop(subset[(subset['count']==3) & (subset['time']==1)].index)\n",
        "subset =  subset.drop(subset[(subset['count']==2) & (subset['time']==2) & (subset['first_inst']==2)].index)\n",
        "\n",
        "subset_new = subset.reset_index(drop = True, inplace = False)\n",
        "\n",
        "color_df = pd.DataFrame(colored_edges)\n",
        "\n",
        "outer_merge = color_df.drop(subset.index)\n",
        "outer_merge.reset_index(drop = True, inplace = True)\n",
        "\n",
        "for index, d in enumerate(pyvis_graph.edges):\n",
        "    d.update((k, f\"{outer_merge.loc[index,'time']}\") for k, v in d.items() if k == 'title')\n",
        "    d.update((k, f\"{outer_merge.loc[index,'color']}\") for k, v in d.items() if k == 'color')\n",
        "\n",
        "# Iterate through each row in the original DataFrame\n",
        "for index, d in enumerate(replicated_entry):\n",
        "    pyvis_graph.add_edge(source = replicated_entry[index]['from'],\n",
        "                         to = replicated_entry[index]['to'],\n",
        "                         title = f\"{subset_new['time'][index]}\",\n",
        "                         arrowStrikethrough = replicated_entry[index]['arrowStrikethrough'],\n",
        "                         value = replicated_entry[index]['value'],\n",
        "                         color = f\"{subset_new['color'][index]}\",\n",
        "                         arrows = replicated_entry[index]['arrows']\n",
        "                         )\n",
        "\n",
        "for index, d in enumerate(pyvis_graph.edges):\n",
        "    d['value'] = d.get('title', '')  # Adds a new key 'title' with the value of 'label'\n",
        "    d['hidden'] = True  # Adds a new key 'title' with the value of 'label'\n",
        "    if d['title'] in [\"1\"]:\n",
        "       d.update((k, False) for k, v in d.items() if k == 'hidden')\n",
        "\n",
        "for index, d in enumerate(pyvis_graph.edges):\n",
        "    #d['value'] = d.get('title', '')  # Adds a new key 'title' with the value of 'label'\n",
        "    d['hidden'] = True  # Adds a new key 'title' with the value of 'label'\n",
        "    if d['title'] in [\"1\"]:\n",
        "       d.update((k, False) for k, v in d.items() if k == 'hidden')\n",
        "\n",
        "\n",
        "for index, d in enumerate(pyvis_graph.nodes):\n",
        "    d.update((k, f\"diamond\") for k, v in d.items() if k == 'shape')\n",
        "    d['title'] = d.get('label', '')  # Adds a new key 'title' with the value of 'label'\n",
        "    #d['size'] = 150\n",
        "\n",
        "    # Update nested 'color' under 'font' to 'black'\n",
        "    if 'font' in d:\n",
        "        d['font'].update((k, '#13345e') for k, v in d['font'].items() if k == 'color')\n",
        "\n",
        " #pyvis_graph.nodes\n",
        "\n",
        "st.title('Glasgow Teenage Friendship Network')\n",
        "\n",
        "slider = st.slider(\n",
        "    min_value = 1,\n",
        "    max_value = 3,\n",
        "    value=1,\n",
        "    label='Filter by Wave:'\n",
        ")\n",
        "st.write(\"Wave:\", slider)\n",
        "\n",
        "for index, d in enumerate(pyvis_graph.edges):\n",
        "    d['value'] = 2  # Adds a new key 'title' with the value of 'label'\n",
        "    d['hidden'] = True  # Adds a new key 'title' with the value of 'label'\n",
        "\n",
        "    if d['title'] in [f'{slider}']:\n",
        "       d.update((k, False) for k, v in d.items() if k == 'hidden')\n",
        "\n",
        "df_parent_col = pd.DataFrame()\n",
        "df_parent_col = df_1.loc[df_1['time'] == slider][:]\n",
        "df_parent_col.parent_smoking = df_parent_col.parent_smoking.astype('string')\n",
        "\n",
        "df_parent_col.reset_index(inplace=True, drop=True)\n",
        "\n",
        "for index, d in enumerate(pyvis_graph.nodes):\n",
        "    d.update((k, np.int(df_parent_col.loc[index,'count'])) for k, v in d.items() if k == 'size')\n",
        "    d.update((k, f\"{df_parent_col.loc[index,'parent_smoking']}\") for k, v in d.items() if k == 'color')\n",
        "\n",
        "pyvis_graph.repulsion(\n",
        "                    node_distance=420,\n",
        "                    central_gravity=0.33,\n",
        "                    spring_length=110,\n",
        "                    spring_strength=0.10,\n",
        "                    damping=0.95\n",
        "                    )\n",
        "\n",
        "pyvis_graph.show_buttons(filter_=['nodes'])\n",
        "#'manipulation', 'interaction', 'edges'\n",
        "\n",
        "options = {\n",
        "    \"interaction\": {\n",
        "        \"hover\": True,\n",
        "        \"selectConnectedEdges\": True\n",
        "\n",
        "    }\n",
        "}\n",
        "\n",
        "# Step 5: Define the options\n",
        "pyvis_graph.set_options = options\n",
        "\n",
        "#pyvis_graph.set_template('/content/')\n",
        "#pyvis_graph.generate_html(name='template.html', local=True, notebook=False)\n",
        "\n",
        "# Save and read graph as HTML file (on Streamlit Sharing)\n",
        "try:\n",
        "    path = '/tmp'\n",
        "    pyvis_graph.save_graph(f'{path}/pyvis_graph.html')\n",
        "    HtmlFile = open(f'{path}/pyvis_graph.html', 'r', encoding='utf-8')\n",
        "\n",
        "# Save and read graph as HTML file (locally)\n",
        "except:\n",
        "    path = '/html_files'\n",
        "    pyvis_graph.save_graph(f'{path}/pyvis_graph.html')\n",
        "    HtmlFile = open(f'{path}/pyvis_graph.html', 'r', encoding='utf-8')\n",
        "\n",
        "# Load HTML file in HTML component for display on Streamlit page\n",
        "components.html(HtmlFile.read(), height=1500, width=900)\n"
      ]
    },
    {
      "cell_type": "code",
      "execution_count": 9,
      "metadata": {
        "colab": {
          "base_uri": "https://localhost:8080/"
        },
        "id": "MeQcNKIaGpR8",
        "outputId": "6bd80b05-6fbf-4d9e-a9f4-410b09d63b7e"
      },
      "outputs": [
        {
          "output_type": "stream",
          "name": "stdout",
          "text": [
            "app.py\tGlasgow_data  node_modules  package-lock.json  sample_data\n"
          ]
        }
      ],
      "source": [
        "!ls"
      ]
    },
    {
      "cell_type": "code",
      "execution_count": 10,
      "metadata": {
        "colab": {
          "base_uri": "https://localhost:8080/",
          "height": 54
        },
        "id": "uA3u0Jlzexo-",
        "outputId": "59b2e08d-9667-466c-c684-140a22d09529"
      },
      "outputs": [
        {
          "output_type": "execute_result",
          "data": {
            "text/plain": [
              "'\\n!pip install --no-dependencies --quiet streamlit\\n\\n!wget https://bin.equinox.io/c/4VmDzA7iaHb/ngrok-stable-linux-amd64.zip\\n!unzip -o ngrok-stable-linux-amd64.zip\\n!pip install --quiet pyngrok\\n\\n!pip install --no-dependencies --quiet protobuf==3.20.*   #==4.21.12\\n!pip install --no-dependencies --quiet validators\\n'"
            ],
            "application/vnd.google.colaboratory.intrinsic+json": {
              "type": "string"
            }
          },
          "metadata": {},
          "execution_count": 10
        }
      ],
      "source": [
        "\"\"\"\n",
        "!pip install --no-dependencies --quiet streamlit\n",
        "\n",
        "!wget https://bin.equinox.io/c/4VmDzA7iaHb/ngrok-stable-linux-amd64.zip\n",
        "!unzip -o ngrok-stable-linux-amd64.zip\n",
        "!pip install --quiet pyngrok\n",
        "\n",
        "!pip install --no-dependencies --quiet protobuf==3.20.*   #==4.21.12\n",
        "!pip install --no-dependencies --quiet validators\n",
        "\"\"\""
      ]
    },
    {
      "cell_type": "code",
      "execution_count": 11,
      "metadata": {
        "id": "ynhM2vP9fKXH"
      },
      "outputs": [],
      "source": [
        "#!ngrok authtoken \"2aN7g3uU4tGOaEuuD52pO7Mbp7G_5kpnVkgdJWPSjCvUR5b3J\""
      ]
    },
    {
      "cell_type": "code",
      "execution_count": 12,
      "metadata": {
        "colab": {
          "base_uri": "https://localhost:8080/",
          "height": 36
        },
        "id": "CDkaUDzsfRlj",
        "outputId": "0eb2f014-660d-4b45-9b35-00896d014822"
      },
      "outputs": [
        {
          "output_type": "execute_result",
          "data": {
            "text/plain": [
              "'\\nfrom pyngrok import ngrok\\n\\npublic_url = ngrok.connect(port = \\'80\\')\\nprint(f\"Please click on the text below {public_url}\")\\n'"
            ],
            "application/vnd.google.colaboratory.intrinsic+json": {
              "type": "string"
            }
          },
          "metadata": {},
          "execution_count": 12
        }
      ],
      "source": [
        "\"\"\"\n",
        "from pyngrok import ngrok\n",
        "\n",
        "public_url = ngrok.connect(port = '80')\n",
        "print(f\"Please click on the text below {public_url}\")\n",
        "\"\"\""
      ]
    },
    {
      "cell_type": "code",
      "execution_count": 13,
      "metadata": {
        "id": "2XpFskrOfVLK"
      },
      "outputs": [],
      "source": [
        "#!streamlit run --server.port 80 my_app.py > /dev/null"
      ]
    },
    {
      "cell_type": "code",
      "execution_count": 14,
      "metadata": {
        "colab": {
          "base_uri": "https://localhost:8080/",
          "height": 54
        },
        "id": "wz6Y-Zy4WVCh",
        "outputId": "110b6b2a-762d-41cb-840d-c897c1576250"
      },
      "outputs": [
        {
          "output_type": "execute_result",
          "data": {
            "text/plain": [
              "'\\nimport getpass\\nfrom pyngrok import ngrok, conf\\n\\nprint(\"Enter your authtoken, which can be copied from https://dashboard.ngrok.com/auth\")\\nconf.get_default().auth_token = getpass.getpass()\\n\\nfrom pyngrok import ngrok\\n!streamlit run app.py&>/dev/null&\\n!pgrep streamlit\\npubl_url = ngrok.connect(port=\\'8501\\')\\n'"
            ],
            "application/vnd.google.colaboratory.intrinsic+json": {
              "type": "string"
            }
          },
          "metadata": {},
          "execution_count": 14
        }
      ],
      "source": [
        "\"\"\"\n",
        "import getpass\n",
        "from pyngrok import ngrok, conf\n",
        "\n",
        "print(\"Enter your authtoken, which can be copied from https://dashboard.ngrok.com/auth\")\n",
        "conf.get_default().auth_token = getpass.getpass()\n",
        "\n",
        "from pyngrok import ngrok\n",
        "!streamlit run app.py&>/dev/null&\n",
        "!pgrep streamlit\n",
        "publ_url = ngrok.connect(port='8501')\n",
        "\"\"\""
      ]
    },
    {
      "cell_type": "markdown",
      "metadata": {
        "id": "gKuTWtOTuOfC"
      },
      "source": [
        "# Open streamlit in browser"
      ]
    },
    {
      "cell_type": "markdown",
      "metadata": {
        "id": "ssOHQEtCSJyt"
      },
      "source": [
        "copy the first line of output into localtunnel after having opened the url in a new tab, check the local host port by opening the .txt log file in this case it's 8501, if this changes then update the number in the code below"
      ]
    },
    {
      "cell_type": "code",
      "execution_count": 19,
      "metadata": {
        "colab": {
          "base_uri": "https://localhost:8080/"
        },
        "id": "E86k_Saaz2EC",
        "outputId": "23d85826-4de5-4089-be6e-fa2cbf7020bc"
      },
      "outputs": [
        {
          "output_type": "stream",
          "name": "stdout",
          "text": [
            "34.73.175.212\n",
            "\u001b[K\u001b[?25hnpx: installed 22 in 2.585s\n",
            "your url is: https://five-mugs-worry.loca.lt\n"
          ]
        }
      ],
      "source": [
        "!streamlit run app.py &>/content/logs.txt & npx localtunnel --port 8501 & curl ipv4.icanhazip.com"
      ]
    }
  ],
  "metadata": {
    "colab": {
      "provenance": []
    },
    "kernelspec": {
      "display_name": "Python 3",
      "name": "python3"
    },
    "language_info": {
      "name": "python"
    }
  },
  "nbformat": 4,
  "nbformat_minor": 0
}